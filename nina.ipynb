{
  "nbformat": 4,
  "nbformat_minor": 0,
  "metadata": {
    "colab": {
      "name": "Untitled16.ipynb",
      "provenance": [],
      "authorship_tag": "ABX9TyMnTp5X1cI1f5BhfiauO7wY",
      "include_colab_link": true
    },
    "kernelspec": {
      "name": "python3",
      "display_name": "Python 3"
    },
    "language_info": {
      "name": "python"
    }
  },
  "cells": [
    {
      "cell_type": "markdown",
      "metadata": {
        "id": "view-in-github",
        "colab_type": "text"
      },
      "source": [
        "<a href=\"https://colab.research.google.com/github/Nina892/tugas-/blob/main/nina.ipynb\" target=\"_parent\"><img src=\"https://colab.research.google.com/assets/colab-badge.svg\" alt=\"Open In Colab\"/></a>"
      ]
    },
    {
      "cell_type": "code",
      "execution_count": 2,
      "metadata": {
        "colab": {
          "base_uri": "https://localhost:8080/"
        },
        "id": "olE2vaJNGhkM",
        "outputId": "a8658cce-c8f8-427b-a74d-e5ea53c8e926"
      },
      "outputs": [
        {
          "output_type": "stream",
          "name": "stdout",
          "text": [
            "biru\n",
            "merah\n",
            "putih\n",
            "hitam\n",
            "hijau\n"
          ]
        }
      ],
      "source": [
        "#list\n",
        "#menampilkan list menggunakan perulagan\n",
        "warna=['biru','merah','putih','hitam','hijau']\n",
        "for i in warna:\n",
        "  print(i)"
      ]
    },
    {
      "cell_type": "code",
      "source": [
        "#mengupdate nilai pada list\n",
        "warna=['biru','merah','putih','hitam','hijau']\n",
        "warna[1]='kuning'\n",
        "print(warna)\n"
      ],
      "metadata": {
        "colab": {
          "base_uri": "https://localhost:8080/"
        },
        "id": "79ok5qjWJbM-",
        "outputId": "f0f7353d-78ad-4c19-9c6a-f05e44f8af9d"
      },
      "execution_count": 4,
      "outputs": [
        {
          "output_type": "stream",
          "name": "stdout",
          "text": [
            "['biru', 'kuning', 'putih', 'hitam', 'hijau']\n"
          ]
        }
      ]
    },
    {
      "cell_type": "code",
      "source": [
        "#menghapus nilai pada list\n",
        "#del\n",
        "#pop\n",
        "#remove\n",
        "warna=['biru','kuning','putih','hitam','hijau']\n",
        "del warna[0]\n",
        "print(warna)"
      ],
      "metadata": {
        "colab": {
          "base_uri": "https://localhost:8080/"
        },
        "id": "U719yG9RJ_LQ",
        "outputId": "cd2a0a57-aacf-4676-d537-d8057351b6f3"
      },
      "execution_count": 6,
      "outputs": [
        {
          "output_type": "stream",
          "name": "stdout",
          "text": [
            "['kuning', 'putih', 'hitam', 'hijau']\n"
          ]
        }
      ]
    },
    {
      "cell_type": "code",
      "source": [
        "#menambahkan nilai pada list\n",
        "#append\n",
        "#insert\n",
        "#extend\n",
        "warna=['kuning','putih','hitam','hijau']\n",
        "warna.insert(2,'ungu')\n",
        "print(warna)"
      ],
      "metadata": {
        "colab": {
          "base_uri": "https://localhost:8080/"
        },
        "id": "flWooVIgKvlq",
        "outputId": "e848b616-ddee-48e0-cd20-162657c6d117"
      },
      "execution_count": 7,
      "outputs": [
        {
          "output_type": "stream",
          "name": "stdout",
          "text": [
            "['kuning', 'putih', 'ungu', 'hitam', 'hijau']\n"
          ]
        }
      ]
    },
    {
      "cell_type": "code",
      "source": [
        "#tuple\n",
        "#menampilkan tuple menggunakan perulangan\n",
        "hewan=('kucing','panda','buaya','kambing','kuda')\n",
        "for i in hewan:\n",
        "  print(i)"
      ],
      "metadata": {
        "colab": {
          "base_uri": "https://localhost:8080/"
        },
        "id": "vnWarLzBLfbE",
        "outputId": "1f040029-8d98-494f-a9ae-816fe0b6d04a"
      },
      "execution_count": 8,
      "outputs": [
        {
          "output_type": "stream",
          "name": "stdout",
          "text": [
            "kucing\n",
            "panda\n",
            "buaya\n",
            "kambing\n",
            "kuda\n"
          ]
        }
      ]
    },
    {
      "cell_type": "code",
      "source": [
        "#mengupdate nilai pada tuple dengan menggunkan konversi\n",
        "hewan=('kucing','panda','buaya','kambing','kuda')\n",
        "hewan=list(hewan)\n",
        "hewan[2]='laron'\n",
        "hewan=tuple(hewan)\n",
        "print(hewan)\n"
      ],
      "metadata": {
        "colab": {
          "base_uri": "https://localhost:8080/"
        },
        "id": "223qA4fZMDOj",
        "outputId": "7f051f93-138e-45df-fc40-d1bb6a91b4e4"
      },
      "execution_count": 9,
      "outputs": [
        {
          "output_type": "stream",
          "name": "stdout",
          "text": [
            "('kucing', 'panda', 'laron', 'kambing', 'kuda')\n"
          ]
        }
      ]
    },
    {
      "cell_type": "code",
      "source": [
        "#menghapus nilai pada tuple dengan menggunakan konversi\n",
        "hewan=('kucing','panda','laron','kambing','kuda')\n",
        "hewan=list(hewan)\n",
        "del hewan[0:3]\n",
        "hewan=tuple(hewan)\n",
        "print(hewan)"
      ],
      "metadata": {
        "colab": {
          "base_uri": "https://localhost:8080/"
        },
        "id": "qsYLjStsMxnJ",
        "outputId": "88ba2567-9de7-41f4-9f62-c1ca4398a07e"
      },
      "execution_count": 10,
      "outputs": [
        {
          "output_type": "stream",
          "name": "stdout",
          "text": [
            "('kambing', 'kuda')\n"
          ]
        }
      ]
    },
    {
      "cell_type": "code",
      "source": [
        "#menambahkan nilai pada tuple dengan menggunakan konversi\n",
        "hewan=('kambing','kuda')\n",
        "hewan=list(hewan)\n",
        "hewan.append('kumbang')\n",
        "hewan=tuple(hewan)\n",
        "print(hewan)"
      ],
      "metadata": {
        "colab": {
          "base_uri": "https://localhost:8080/"
        },
        "id": "-GZlc5GQNlDn",
        "outputId": "9a243b79-f2f4-4155-a2f5-68864c909777"
      },
      "execution_count": 11,
      "outputs": [
        {
          "output_type": "stream",
          "name": "stdout",
          "text": [
            "('kambing', 'kuda', 'kumbang')\n"
          ]
        }
      ]
    },
    {
      "cell_type": "code",
      "source": [
        "#set\n",
        "#menampilkan set menggunakan perulangan\n",
        "benda={'jam','kipas','kursi','meja'}\n",
        "for i in benda:\n",
        "  print(i)"
      ],
      "metadata": {
        "colab": {
          "base_uri": "https://localhost:8080/"
        },
        "id": "_oT2O3u2PA4v",
        "outputId": "4c4b9247-0346-4339-d5ab-9bd137eec268"
      },
      "execution_count": 14,
      "outputs": [
        {
          "output_type": "stream",
          "name": "stdout",
          "text": [
            "kursi\n",
            "jam\n",
            "meja\n",
            "kipas\n"
          ]
        }
      ]
    },
    {
      "cell_type": "code",
      "source": [
        "#mengupdate nilai pda set dengan menggunakan konversi\n",
        "benda={'kursi','jam','meja','kipas'}\n",
        "benda=list(benda)\n",
        "benda[1]='gelas'\n",
        "benda=set(benda)\n",
        "print(benda)\n"
      ],
      "metadata": {
        "colab": {
          "base_uri": "https://localhost:8080/"
        },
        "id": "9aElS3UlPlGz",
        "outputId": "f2798c0a-c7ee-41bb-b67f-1d2661497f52"
      },
      "execution_count": 15,
      "outputs": [
        {
          "output_type": "stream",
          "name": "stdout",
          "text": [
            "{'kursi', 'meja', 'gelas', 'kipas'}\n"
          ]
        }
      ]
    },
    {
      "cell_type": "code",
      "source": [
        "#menghapus nilai pada set menggunakan konversi\n",
        "benda={'kursi','meja','gelas','kipas'}\n",
        "benda=list(benda)\n",
        "benda.pop(0)\n",
        "benda=set(benda)\n",
        "print(benda)"
      ],
      "metadata": {
        "colab": {
          "base_uri": "https://localhost:8080/"
        },
        "id": "r6d2Ce2GQPLg",
        "outputId": "c3f8c283-b51d-4d06-d593-c17ecee4601e"
      },
      "execution_count": 17,
      "outputs": [
        {
          "output_type": "stream",
          "name": "stdout",
          "text": [
            "{'meja', 'gelas', 'kipas'}\n"
          ]
        }
      ]
    },
    {
      "cell_type": "code",
      "source": [
        "#menambahkan nilai pada set menggunakan konversi\n",
        "benda={'meja','gelas','kipas'}\n",
        "benda=list(benda)\n",
        "benda.insert(2,'lemari')\n",
        "benda=set(benda)\n",
        "print(benda)"
      ],
      "metadata": {
        "colab": {
          "base_uri": "https://localhost:8080/"
        },
        "id": "EdrajFueQ5Za",
        "outputId": "1d6d2fcd-5640-400c-c769-5d9d62682e74"
      },
      "execution_count": 18,
      "outputs": [
        {
          "output_type": "stream",
          "name": "stdout",
          "text": [
            "{'lemari', 'meja', 'gelas', 'kipas'}\n"
          ]
        }
      ]
    },
    {
      "cell_type": "code",
      "source": [
        "#dictionary\n",
        "#menampilkan dictionary menggunakan perulangan\n",
        "favorit={\n",
        "'makanan':'bakso',\n",
        "'warna':'biru',\n",
        "'minuman':'taro',}\n",
        "for i in favorit.items():\n",
        "  print(i)"
      ],
      "metadata": {
        "colab": {
          "base_uri": "https://localhost:8080/"
        },
        "id": "Crbw1vteawvD",
        "outputId": "e4bff2f7-9eb1-4ce0-8fad-34a82c114c94"
      },
      "execution_count": 38,
      "outputs": [
        {
          "output_type": "stream",
          "name": "stdout",
          "text": [
            "('makanan', 'bakso')\n",
            "('warna', 'biru')\n",
            "('minuman', 'taro')\n"
          ]
        }
      ]
    },
    {
      "cell_type": "code",
      "source": [
        "#mengupdate nilai pada dictionary\n",
        "favorit['warna']='coklat'\n",
        "print(favorit)"
      ],
      "metadata": {
        "colab": {
          "base_uri": "https://localhost:8080/"
        },
        "id": "c3sUCrRpb7R3",
        "outputId": "25ffa0e3-dc82-4735-acd5-dbee20561d71"
      },
      "execution_count": 39,
      "outputs": [
        {
          "output_type": "stream",
          "name": "stdout",
          "text": [
            "{'makanan': 'bakso', 'warna': 'coklat', 'minuman': 'taro'}\n"
          ]
        }
      ]
    },
    {
      "cell_type": "code",
      "source": [
        "#menghapus nilai pada dictionary\n",
        "favorit.pop('minuman')\n",
        "print(favorit)\n",
        "favorit.clear()\n",
        "print(favorit)"
      ],
      "metadata": {
        "colab": {
          "base_uri": "https://localhost:8080/"
        },
        "id": "FozN0LAMcYI2",
        "outputId": "68e6b37e-5cc9-4be8-d2e9-b992c4ae8610"
      },
      "execution_count": 40,
      "outputs": [
        {
          "output_type": "stream",
          "name": "stdout",
          "text": [
            "{'makanan': 'bakso', 'warna': 'coklat'}\n",
            "{}\n"
          ]
        }
      ]
    },
    {
      "cell_type": "code",
      "source": [
        "#menambahkan nilai pada dictionary\n",
        "favorit['alamat']='samarinda'\n",
        "print(favorit)"
      ],
      "metadata": {
        "colab": {
          "base_uri": "https://localhost:8080/"
        },
        "id": "Nr1jzJgjcxuL",
        "outputId": "3675accf-4629-4e19-8c64-41bb1b2c12ab"
      },
      "execution_count": 41,
      "outputs": [
        {
          "output_type": "stream",
          "name": "stdout",
          "text": [
            "{'alamat': 'samarinda'}\n"
          ]
        }
      ]
    }
  ]
}