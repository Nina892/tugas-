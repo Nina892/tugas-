{
  "nbformat": 4,
  "nbformat_minor": 0,
  "metadata": {
    "colab": {
      "name": "Untitled7.ipynb",
      "provenance": []
    },
    "kernelspec": {
      "name": "python3",
      "display_name": "Python 3"
    },
    "language_info": {
      "name": "python"
    }
  },
  "cells": [
    {
      "cell_type": "code",
      "source": [
        "#type data pada phyton\n",
        "#bolean\n",
        "#string\n",
        "#integer\n",
        "#float\n",
        "nilai=2>4\n",
        "print(nilai)\n",
        "print(type(nilai))"
      ],
      "metadata": {
        "colab": {
          "base_uri": "https://localhost:8080/"
        },
        "id": "hOxywkf-g8Hv",
        "outputId": "58083dc9-5a77-4182-a9d1-aff66aa3ac0b"
      },
      "execution_count": 19,
      "outputs": [
        {
          "output_type": "stream",
          "name": "stdout",
          "text": [
            "False\n",
            "<class 'bool'>\n"
          ]
        }
      ]
    },
    {
      "cell_type": "code",
      "source": [
        "nama=\"nina\"\n",
        "print(nama)\n",
        "print(type(nama))"
      ],
      "metadata": {
        "colab": {
          "base_uri": "https://localhost:8080/"
        },
        "id": "9ICyiap_haao",
        "outputId": "4a8945ce-fc44-4002-c3ba-e3350b2ba198"
      },
      "execution_count": 21,
      "outputs": [
        {
          "output_type": "stream",
          "name": "stdout",
          "text": [
            "nina\n",
            "<class 'str'>\n"
          ]
        }
      ]
    },
    {
      "cell_type": "code",
      "source": [
        "umur= 19\n",
        "print(umur)\n",
        "print(type(umur))"
      ],
      "metadata": {
        "colab": {
          "base_uri": "https://localhost:8080/"
        },
        "id": "lGzO9pFVhsfu",
        "outputId": "e203ab35-ed0a-4369-b605-404ecd61acb8"
      },
      "execution_count": 23,
      "outputs": [
        {
          "output_type": "stream",
          "name": "stdout",
          "text": [
            "19\n",
            "<class 'int'>\n"
          ]
        }
      ]
    },
    {
      "cell_type": "code",
      "source": [
        "angka= 1.5\n",
        "print(angka)\n",
        "print(type(angka))"
      ],
      "metadata": {
        "colab": {
          "base_uri": "https://localhost:8080/"
        },
        "id": "hvthfuaHh8KZ",
        "outputId": "cdf9c544-110e-4987-8712-bd110ad69408"
      },
      "execution_count": 25,
      "outputs": [
        {
          "output_type": "stream",
          "name": "stdout",
          "text": [
            "1.5\n",
            "<class 'float'>\n"
          ]
        }
      ]
    },
    {
      "cell_type": "code",
      "source": [
        "#operasi aritmatika\n",
        "#penjumlahan(+)\n",
        "#pengurangan(-)\n",
        "#perkalian(*)\n",
        "#pembagian (/)\n",
        "#hasil bagi(%)\n",
        "#perpangkatan(**)\n",
        "nilai = 7\n",
        "nilai2 =2\n",
        "hasil= nilai ** nilai2\n",
        "print(hasil)"
      ],
      "metadata": {
        "colab": {
          "base_uri": "https://localhost:8080/"
        },
        "id": "EYQOhQqwiOP6",
        "outputId": "d43a0c37-947c-452d-fa24-f891cd505b40"
      },
      "execution_count": 27,
      "outputs": [
        {
          "output_type": "stream",
          "name": "stdout",
          "text": [
            "49\n"
          ]
        }
      ]
    }
  ]
}