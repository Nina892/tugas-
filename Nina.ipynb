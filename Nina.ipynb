{
  "nbformat": 4,
  "nbformat_minor": 0,
  "metadata": {
    "colab": {
      "name": "Untitled29.ipynb",
      "provenance": [],
      "collapsed_sections": [],
      "authorship_tag": "ABX9TyP0FY4fwhuxbG0ydSAsKusG",
      "include_colab_link": true
    },
    "kernelspec": {
      "name": "python3",
      "display_name": "Python 3"
    },
    "language_info": {
      "name": "python"
    }
  },
  "cells": [
    {
      "cell_type": "markdown",
      "metadata": {
        "id": "view-in-github",
        "colab_type": "text"
      },
      "source": [
        "<a href=\"https://colab.research.google.com/github/Nina892/tugas-/blob/main/Nina.ipynb\" target=\"_parent\"><img src=\"https://colab.research.google.com/assets/colab-badge.svg\" alt=\"Open In Colab\"/></a>"
      ]
    },
    {
      "cell_type": "code",
      "execution_count": null,
      "metadata": {
        "id": "iKJvmExlueYq"
      },
      "outputs": [],
      "source": [
        "#stack\n",
        "barang = []\n",
        "size = int(input(\"masukkan ukuran maksimal barang :\"))\n",
        "\n",
        "def isEmpty():\n",
        "  if len(barang) == 0 :\n",
        "    print(\"barang kosong\")\n",
        "    return True\n",
        "  return False\n",
        "\n",
        "def pop():\n",
        "  if isEmpty() == False :\n",
        "    print(barang.pop() , \"telah di hapus \")\n",
        "\n",
        "def peek():\n",
        "  if isEmpty() == False :\n",
        "    print(barang [-1])\n",
        "\n",
        "def isFull():\n",
        "  if len(barang) == size :\n",
        "    print(\"barang penuh\")\n",
        "    return True\n",
        "  return False\n",
        "\n",
        "def push():\n",
        "  if isFull() == False :\n",
        "    a = input(\"tambahkan barang :\")\n",
        "    barang.append(a)\n",
        "    print(a, \"telah di tambahkan\")\n",
        "\n",
        "perintah = 0\n",
        "while perintah != 6 :\n",
        "  print('''1. Push -> menambah barang\n",
        "  2. Pop -> menghapus barang\n",
        "  3. Peek -> melihat barang teratas \n",
        "  4. Empty -> periksa barang apakah penuh\n",
        "  5. size -> melihat ukuran barang\n",
        "  6. stop''')\n",
        "    \n",
        "  perintah = int(input(\"masukkan perintah :\"))\n",
        "  print()\n",
        "\n",
        "  if perintah == 1 :\n",
        "    push()\n",
        "  elif perintah == 2 :\n",
        "    pop()\n",
        "  elif perintah == 3 :\n",
        "    peek()\n",
        "  elif perintah == 4 :\n",
        "    if isEmpty() == False :\n",
        "      print(\"barang terisi.\")\n",
        "  elif perintah == 5 :\n",
        "    print(\"ukuran barang saat ini :\", len(barang), \"\\nUkuran maksimal barang :\", size)"
      ]
    },
    {
      "cell_type": "code",
      "source": [
        "#queue\n",
        "buku = []\n",
        "max_buku = int(input(\"masukkan maksimal buku :\"))\n",
        "\n",
        "def isFull() :\n",
        "  if len(buku) == max_buku :\n",
        "    print(\"buku penuh\")\n",
        "    return True\n",
        "  return False\n",
        "\n",
        "def enqueue():\n",
        "  if isFull() == False :\n",
        "    a = input(\"masukkan buku yang baru : \")\n",
        "    buku.append(a)\n",
        "    print(a, \"dimasukkan\")\n",
        "  \n",
        "\n",
        "def isEmpty() :\n",
        "  if len(buku) == 0 :\n",
        "    print(\"buku kosong\")\n",
        "    return True\n",
        "  return False\n",
        "\n",
        "def dequeue():\n",
        "  if isEmpty() == False :\n",
        "    print(buku.pop(0), \"di hapus\")\n",
        "\n",
        "perintah = 0\n",
        "while perintah != 5 :\n",
        "  print('''1. enqueue -> tambah buku\n",
        "  2. dequeue -> mengahapus buku\n",
        "  3. full -> cek buku apakah penuh\n",
        "  4. size -> melihat ukuran buku\n",
        "  5. stop''')\n",
        "  \n",
        "  perintah = int(input(\"masukkan perintah :\"))\n",
        "  \n",
        "  if perintah == 1 :\n",
        "    enqueue()\n",
        "  elif perintah == 2 :\n",
        "    dequeue()\n",
        "  elif perintah == 3 :\n",
        "    if isFull() == False :\n",
        "      print(\"buku belum penuh\")\n",
        "  elif perintah == 4 :\n",
        "    print(\" isi buku saat ini:\" , len(buku),\"\\n ukuran maksimal buku:\", max_buku)"
      ],
      "metadata": {
        "id": "geSbl-gT4Xc4"
      },
      "execution_count": null,
      "outputs": []
    }
  ]
}